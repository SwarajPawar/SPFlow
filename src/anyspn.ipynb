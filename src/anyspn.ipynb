{
 "cells": [
  {
   "cell_type": "code",
   "execution_count": 3,
   "metadata": {
    "scrolled": true
   },
   "outputs": [
    {
     "name": "stdout",
     "output_type": "stream",
     "text": [
      "[-7.006634410025487, -6.267118561642007, -6.267118561642007, -6.267118561642007, -6.267118561642007, -6.267118561642007, -6.267118561642007, -6.267118561642007, -6.267118561642007, -6.267118561642007, -6.267118561642007, -6.267118561642007, -6.267118561642007, -6.267118561642007, -6.267118561642007, -6.267118561642007, -6.267118561642007, -6.267118561642007, -6.267118561642007, -6.267118561642007, -6.267118561642007, -6.267118561642007, -6.267118561642007, -6.267118561642007, -6.267118561642007, -6.267118561642007, -6.267118561642007, -6.267118561642007, -6.267118561642007, -6.267118561642007, -6.253781220373503, -6.229206107466385, -6.222781781755295, -6.207256079729713, -6.2025323344127905, -6.181606119406679, -6.176435427941301, -6.168337009753869, -6.1517332944310805, -6.147846499486578, -6.147846499486578, -6.147846499486578, -6.147846499486578, -6.147846499486578, -6.147846499486578, -6.147846499486578, -6.147846499486578, -6.147846499486578, -6.147846499486578, -6.147846499486578, -6.147846499486578, -6.147846499486578, -6.147846499486578, -6.147846499486578, -6.147846499486578, -6.147846499486578, -6.147846499486578, -6.147846499486578, -6.148246476568861, -6.14743943094274, -6.14743943094274, -6.14743943094274, -6.14743943094274]\n"
     ]
    },
    {
     "data": {
      "image/png": "[encoded data removed]",
      "text/plain": [
       "<Figure size 432x288 with 1 Axes>"
      ]
     },
     "metadata": {
      "needs_background": "light"
     },
     "output_type": "display_data"
    },
    {
     "name": "stdout",
     "output_type": "stream",
     "text": [
      "[35, 69, 72, 74, 75, 75, 74, 72, 71, 75, 77, 79, 77, 75, 73, 71, 75, 76, 78, 77, 75, 74, 73, 75, 76, 78, 79, 77, 75, 77, 81, 86, 94, 98, 102, 107, 115, 119, 123, 127, 127, 127, 127, 127, 128, 128, 128, 128, 128, 128, 128, 129, 129, 129, 129, 129, 129, 129, 133, 137, 137, 137, 137]\n"
     ]
    }
   ],
   "source": [
    "\"\"\"\n",
    "Created on March 30, 2018\n",
    "\n",
    "@author: Alejandro Molina\n",
    "\"\"\"\n",
    "\n",
    "import numpy as np\n",
    "\n",
    "from spn.algorithms.StructureLearning import learn_structure\n",
    "from spn.algorithms.CnetStructureLearning import get_next_operation_cnet, learn_structure_cnet\n",
    "from spn.algorithms.Validity import is_valid\n",
    "from spn.algorithms.AnytimeLearning import get_next_operation, AnytimeSPN\n",
    "\n",
    "from spn.structure.Base import Sum, assign_ids\n",
    "\n",
    "from spn.structure.leaves.histogram.Histograms import create_histogram_leaf\n",
    "from spn.structure.leaves.parametric.Parametric import create_parametric_leaf\n",
    "from spn.structure.leaves.piecewise.PiecewiseLinear import create_piecewise_leaf\n",
    "from spn.structure.leaves.cltree.CLTree import create_cltree_leaf\n",
    "from spn.algorithms.splitting.Conditioning import (\n",
    "\tget_split_rows_naive_mle_conditioning,\n",
    "\tget_split_rows_random_conditioning,\n",
    ")\n",
    "import logging\n",
    "\n",
    "logger = logging.getLogger(__name__)\n",
    "\n",
    "\n",
    "from spn.algorithms.splitting.Clustering import get_split_rows_XMeans\n",
    "from spn.algorithms.splitting.RDC import get_split_cols_distributed_RDC_py\n",
    "from spn.algorithms.Inference import log_likelihood\n",
    "from spn.algorithms.Statistics import get_structure_stats_dict\n",
    "\n",
    "import pandas as pd\n",
    "from spn.structure.Base import Context\n",
    "from spn.structure.StatisticalTypes import MetaType\n",
    "from spn.io.Graphics import plot_spn\n",
    "'''\n",
    "min_instances_slice=200\n",
    "threshold=0.3\n",
    "ohe=False\n",
    "leaves = create_histogram_leaf\n",
    "rand_gen=None\n",
    "cpus=-1\n",
    "split_cols=get_split_cols_distributed_RDC_py(rand_gen=rand_gen, ohe=ohe, n_jobs=cpus)\n",
    "split_rows = get_split_rows_XMeans()\n",
    "\n",
    "df = pd.read_csv(\"spn/data/binary/nltcs.ts.data\", sep=',')\n",
    "data = df.values\n",
    "print(data.shape)\n",
    "samples, var = data.shape\n",
    "ds_context = Context(meta_types=[MetaType.DISCRETE]*var)\n",
    "ds_context.add_domains(data)\n",
    "\n",
    "df2 = pd.read_csv(\"spn/data/binary/nltcs.test.data\", sep=',')[:1500]\n",
    "test = df2.values\n",
    "\n",
    "ll = list()\n",
    "nodes = list()\n",
    "\n",
    "nextop = get_next_operation(min_instances_slice)\n",
    "\n",
    "anyspn = AnytimeSPN(split_rows, split_cols, leaves, nextop)\n",
    "spns = anyspn.learn_structure(data, ds_context)\n",
    "\n",
    "\n",
    "\n",
    "\t\n",
    "for spn in spns:\n",
    "\n",
    "    \n",
    "\ttotal_ll = 0\n",
    "\tstats = get_structure_stats_dict(spn)\n",
    "\tnodes.append(stats[\"nodes\"])\n",
    "\tfor instance in test:\n",
    "\t\timport numpy as np\n",
    "\t\ttest_data = np.array(instance).reshape(-1, var)\n",
    "\t\ttotal_ll += log_likelihood(spn, test_data)[0][0]\n",
    "\tll.append(total_ll/len(test))\n",
    "\n",
    "import matplotlib.pyplot as plt \n",
    "'''\n",
    "# plot line \n",
    "ll = [-7.006634410025487, -6.267118561642007, -6.267118561642007, -6.267118561642007, -6.267118561642007, -6.267118561642007, -6.267118561642007, -6.267118561642007, -6.267118561642007, -6.267118561642007, -6.267118561642007, -6.267118561642007, -6.267118561642007, -6.267118561642007, -6.267118561642007, -6.267118561642007, -6.267118561642007, -6.267118561642007, -6.267118561642007, -6.267118561642007, -6.267118561642007, -6.267118561642007, -6.267118561642007, -6.267118561642007, -6.267118561642007, -6.267118561642007, -6.267118561642007, -6.267118561642007, -6.267118561642007, -6.267118561642007, -6.253781220373503, -6.229206107466385, -6.222781781755295, -6.207256079729713, -6.2025323344127905, -6.181606119406679, -6.176435427941301, -6.168337009753869, -6.1517332944310805, -6.147846499486578, -6.147846499486578, -6.147846499486578, -6.147846499486578, -6.147846499486578, -6.147846499486578, -6.147846499486578, -6.147846499486578, -6.147846499486578, -6.147846499486578, -6.147846499486578, -6.147846499486578, -6.147846499486578, -6.147846499486578, -6.147846499486578, -6.147846499486578, -6.147846499486578, -6.147846499486578, -6.147846499486578, -6.148246476568861, -6.14743943094274, -6.14743943094274, -6.14743943094274, -6.14743943094274]\n",
    "plt.plot(ll, label=\"Log Likelihood\")\n",
    "print(ll)\n",
    "plt.show()\n",
    "#plt.plot(nodes, label=\"# nodes\") \n",
    "print(nodes)\n",
    "#plt.show()\n",
    "\n",
    "\n",
    "\n",
    "\n",
    "\n",
    "\n",
    "\n",
    "\n",
    "\n",
    "\n",
    "\n",
    "\n",
    "\n",
    "\n",
    "\n",
    "\n",
    "\n",
    "\n",
    "\n",
    "\n",
    "\n",
    "\n",
    "\n",
    "\n",
    "\n",
    "\n",
    "\n",
    "\n",
    "\n",
    "\n",
    "\n"
   ]
  },
  {
   "cell_type": "code",
   "execution_count": null,
   "metadata": {},
   "outputs": [],
   "source": []
  },
  {
   "cell_type": "code",
   "execution_count": null,
   "metadata": {},
   "outputs": [],
   "source": []
  },
  {
   "cell_type": "code",
   "execution_count": null,
   "metadata": {},
   "outputs": [],
   "source": []
  },
  {
   "cell_type": "code",
   "execution_count": null,
   "metadata": {},
   "outputs": [],
   "source": []
  }
 ],
 "metadata": {
  "kernelspec": {
   "display_name": "Python 3",
   "language": "python",
   "name": "python3"
  },
  "language_info": {
   "codemirror_mode": {
    "name": "ipython",
    "version": 3
   },
   "file_extension": ".py",
   "mimetype": "text/x-python",
   "name": "python",
   "nbconvert_exporter": "python",
   "pygments_lexer": "ipython3",
   "version": "3.8.5"
  }
 },
 "nbformat": 4,
 "nbformat_minor": 4
}
