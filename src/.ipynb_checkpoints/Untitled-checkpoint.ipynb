{
 "cells": [
  {
   "cell_type": "code",
   "execution_count": 5,
   "metadata": {},
   "outputs": [
    {
     "name": "stdout",
     "output_type": "stream",
     "text": [
      "[[-6.598 -6.559 -6.532 -6.496 -6.454 -6.435 -6.401 -6.396 -6.378 -6.378\n",
      "  -6.347 -6.341 -6.338 -6.327 -6.318 -6.293 -6.275 -6.267 -6.256 -6.274\n",
      "  -6.273 -6.238]\n",
      " [-6.594 -6.568 -6.556 -6.455 -6.454 -6.409 -6.436 -6.403 -6.381 -6.384\n",
      "  -6.376 -6.311 -6.332 -6.317 -6.307 -6.296 -6.286 -6.281 -6.262 -6.258\n",
      "  -6.257 -6.236]\n",
      " [-6.622 -6.591 -6.517 -6.534 -6.439 -6.446 -6.418 -6.403 -6.387 -6.376\n",
      "  -6.367 -6.361 -6.349 -6.328 -6.297 -6.288 -6.285 -6.272 -6.269 -6.267\n",
      "  -6.276 -6.269]]\n",
      "[[38, 56, 76, 97, 112, 138, 169, 182, 204, 219, 233, 249, 278, 311, 328, 347, 376, 418, 649, 493, 488, 496], [39, 58, 72, 101, 113, 151, 146, 182, 204, 217, 236, 254, 283, 315, 309, 352, 377, 472, 438, 469, 471, 515], [42, 59, 73, 102, 114, 142, 165, 183, 198, 226, 264, 259, 266, 308, 332, 359, 606, 416, 648, 449, 457, 513]]\n"
     ]
    }
   ],
   "source": [
    "import matplotlib.pyplot as plt\n",
    "import numpy as np\n",
    "\n",
    "dataset=\"kdd\"\n",
    "path=\"cross\"\n",
    "\n",
    "lls = [[],\n",
    "      [],\n",
    "      []]\n",
    "nodes_k = [[],\n",
    "          [],\n",
    "          []]\n",
    "\n",
    "'''\n",
    "lls = [[6.598,6.559,6.532,6.496,6.454,6.435,6.401,6.396,6.378,6.378,6.347,6.341,6.338,6.327,6.318,6.293,6.275,6.267,6.256,6.274,6.273,6.238],\n",
    "      [6.594,6.568,6.556,6.455,6.454,6.409,6.436,6.403,6.381,6.384,6.376,6.311,6.332,6.317,6.307,6.296,6.286,6.281,6.262,6.258,6.257,6.236],\n",
    "       [6.622,6.591,6.517,6.534,6.439,6.446,6.418,6.403,6.387,6.376,6.367,6.361,6.349,6.328,6.297,6.288,6.285,6.272,6.269,6.267,6.276,6.269]]\n",
    "nodes_k = [[38,56,76,97,112,138,169,182,204,219,233,249,278,311,328,347,376,418,649,493,488,496],\n",
    "           [39,58,72,101,113,151,146,182,204,217,236,254,283,315,309,352,377,472,438,469,471,515],\n",
    "           [42,59,73,102,114,142,165,183,198,226,264,259,266,308,332,359,606,416,648,449,457,513]\n",
    "          ]\n",
    "'''\n",
    "lls = np.array(lls)*-1\n",
    "nodess_k = np.array(nodes_k)\n",
    "print(lls)\n",
    "print(nodes_k)\n",
    "\n",
    "plt.close()\n",
    "colors = [\"aqua\", \"palegreen\", \"pink\"]\n",
    "total_ll = np.zeros(max([len(lls[i]) for i in range(len(lls))]))\n",
    "for i in range(len(lls)):\n",
    "    plt.plot(lls[i], marker=\"o\", color =colors[i], label=(i+1))\n",
    "    total_ll += np.array(lls[i])\n",
    "avg_ll = total_ll/len(lls)\n",
    "plt.plot(avg_ll, marker=\"o\", color =\"black\", label=\"Mean\")\n",
    "plt.title(f\"{dataset} Log Likelihood\")\n",
    "plt.legend()\n",
    "plt.savefig(f\"{path}/{dataset}/ll.png\", dpi=150)\n",
    "plt.close()\n",
    "\n",
    "total_nodes = np.zeros(max([len(nodes_k[i]) for i in range(len(nodes_k))]))\n",
    "for i in range(len(nodes_k)):\n",
    "    plt.plot(nodes_k[i], marker=\"o\", color =colors[i], label=(i+1))\n",
    "    total_nodes += np.array(nodes_k[i])\n",
    "avg_nodes = total_nodes/len(nodes_k)\n",
    "plt.plot(avg_nodes, marker=\"o\", color =\"black\", label=\"Mean\")\n",
    "plt.title(f\"{dataset} Nodes\")\n",
    "plt.legend()\n",
    "plt.savefig(f\"{path}/{dataset}/nodes.png\", dpi=150)\n",
    "plt.close()"
   ]
  },
  {
   "cell_type": "code",
   "execution_count": null,
   "metadata": {},
   "outputs": [],
   "source": []
  },
  {
   "cell_type": "code",
   "execution_count": null,
   "metadata": {},
   "outputs": [],
   "source": []
  },
  {
   "cell_type": "code",
   "execution_count": null,
   "metadata": {},
   "outputs": [],
   "source": []
  }
 ],
 "metadata": {
  "kernelspec": {
   "display_name": "Python 3",
   "language": "python",
   "name": "python3"
  },
  "language_info": {
   "codemirror_mode": {
    "name": "ipython",
    "version": 3
   },
   "file_extension": ".py",
   "mimetype": "text/x-python",
   "name": "python",
   "nbconvert_exporter": "python",
   "pygments_lexer": "ipython3",
   "version": "3.8.5"
  }
 },
 "nbformat": 4,
 "nbformat_minor": 4
}
