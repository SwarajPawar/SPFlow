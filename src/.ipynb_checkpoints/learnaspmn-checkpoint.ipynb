{
 "cells": [
  {
   "cell_type": "code",
   "execution_count": null,
   "metadata": {},
   "outputs": [],
   "source": []
  },
  {
   "cell_type": "code",
   "execution_count": 1,
   "metadata": {},
   "outputs": [
    {
     "name": "stdout",
     "output_type": "stream",
     "text": [
      "\n",
      "\n",
      "\n",
      "Dataset3\n",
      "\n",
      "\n",
      "\n"
     ]
    }
   ],
   "source": [
    "\n",
    "\n",
    "import numpy as np\n",
    "\n",
    "import logging\n",
    "logger = logging.getLogger(__name__)\n",
    "\n",
    "\n",
    "import warnings\n",
    "warnings.filterwarnings('ignore')\n",
    "\n",
    "import pandas as pd\n",
    "from os import path as pth\n",
    "import sys, os\n",
    "import random\n",
    "\n",
    "from sklearn.model_selection import train_test_split\n",
    "from spn.data.metaData import *\n",
    "from spn.structure.StatisticalTypes import MetaType\n",
    "from spn.algorithms.SPMNDataUtil import align_data\n",
    "from spn.algorithms.SPMN import SPMN\n",
    "from spn.algorithms.ASPMN import Anytime_SPMN\n",
    "import matplotlib.pyplot as plt\n",
    "from os import path as pth\n",
    "import sys, os\n",
    "\n",
    "datasets = [\"Dataset4\"]\n",
    "#datasets = [f\"Dataset{i+1}\" for i in range(6)]\n",
    "\n",
    "path = \"initial\"\n",
    "\n",
    "\n",
    "\n",
    "for dataset in datasets:\n",
    "\t\n",
    "\tprint(f\"\\n\\n\\n{dataset}\\n\\n\\n\")\n",
    "\tplot_path = f\"{path}/{dataset}\"\n",
    "\tif not pth.exists(plot_path):\n",
    "\t\ttry:\n",
    "\t\t\tos.makedirs(plot_path)\n",
    "\t\texcept OSError:\n",
    "\t\t\tprint (\"Creation of the directory %s failed\" % plot_path)\n",
    "\t\t\tsys.exit()\n",
    "\n",
    "\n",
    "\tpartial_order = get_partial_order(dataset)\n",
    "\tutility_node = get_utilityNode(dataset)\n",
    "\tdecision_nodes = get_decNode(dataset)\n",
    "\tfeature_names = get_feature_names(dataset)\n",
    "\tfeature_labels = get_feature_labels(dataset)\n",
    "\tmeta_types = [MetaType.DISCRETE]*(len(feature_names)-1)+[MetaType.UTILITY]\n",
    "\n",
    "\t\t\t\n",
    "\tdf = pd.read_csv(f\"spn/data/{dataset}/{dataset}.tsv\", sep='\\t')\n",
    "\n",
    "\tdf1, column_titles = align_data(df, partial_order)  # aligns data in partial order sequence\n",
    "\tcol_ind = column_titles.index(utility_node[0]) \n",
    "\tdf_without_utility = df1.drop(df1.columns[col_ind], axis=1)\n",
    "\tfrom sklearn.preprocessing import LabelEncoder\n",
    "\t# transform categorical string values to categorical numerical values\n",
    "\tdf_without_utility_categorical = df_without_utility.apply(LabelEncoder().fit_transform)  \n",
    "\tdf_utility = df1.iloc[:, col_ind]\n",
    "\tdf = pd.concat([df_without_utility_categorical, df_utility], axis=1, sort=False)\n",
    "\n",
    "\tdata = df.values\n",
    "\ttrain, test = train_test_split(data, test_size=0.2, shuffle=True)\n",
    "\n",
    "\t\n",
    "\t#spmn = SPMN(partial_order , decision_nodes, utility_node, feature_names, meta_types, cluster_by_curr_information_set = True, util_to_bin = False)\n",
    "\t#spmn.learn_spmn(train)\n",
    "\t#print(\"Done\")"
   ]
  },
  {
   "cell_type": "code",
   "execution_count": 2,
   "metadata": {
    "scrolled": true
   },
   "outputs": [
    {
     "name": "stdout",
     "output_type": "stream",
     "text": [
      "[0]\n",
      "[0, 1, 2, 3, 4, 5, 6, 7, 8]\n",
      "start\n",
      "[0]\n",
      "[0, 1, 2, 3, 4, 5, 6, 7, 8]\n",
      "[1, 2, 3, 4, 5, 6, 7, 8]\n",
      "[1, 2]\n",
      "[1, 2, 3, 4, 5, 6, 7, 8]\n",
      "[3, 4, 5, 6, 7, 8]\n"
     ]
    },
    {
     "ename": "MemoryError",
     "evalue": "Unable to allocate 238. GiB for an array with shape (160000, 199999) and data type float64",
     "output_type": "error",
     "traceback": [
      "\u001b[1;31m---------------------------------------------------------------------------\u001b[0m",
      "\u001b[1;31mMemoryError\u001b[0m                               Traceback (most recent call last)",
      "\u001b[1;32m<ipython-input-2-c76ae24dc610>\u001b[0m in \u001b[0;36m<module>\u001b[1;34m\u001b[0m\n\u001b[0;32m      1\u001b[0m \u001b[0maspmn\u001b[0m \u001b[1;33m=\u001b[0m \u001b[0mAnytime_SPMN\u001b[0m\u001b[1;33m(\u001b[0m\u001b[0mdataset\u001b[0m\u001b[1;33m,\u001b[0m \u001b[0mplot_path\u001b[0m\u001b[1;33m,\u001b[0m \u001b[0mpartial_order\u001b[0m \u001b[1;33m,\u001b[0m \u001b[0mdecision_nodes\u001b[0m\u001b[1;33m,\u001b[0m \u001b[0mutility_node\u001b[0m\u001b[1;33m,\u001b[0m \u001b[0mfeature_names\u001b[0m\u001b[1;33m,\u001b[0m \u001b[0mfeature_labels\u001b[0m\u001b[1;33m,\u001b[0m \u001b[0mmeta_types\u001b[0m\u001b[1;33m,\u001b[0m \u001b[0mcluster_by_curr_information_set\u001b[0m\u001b[1;33m=\u001b[0m\u001b[1;32mTrue\u001b[0m\u001b[1;33m,\u001b[0m \u001b[0mutil_to_bin\u001b[0m \u001b[1;33m=\u001b[0m \u001b[1;32mFalse\u001b[0m\u001b[1;33m)\u001b[0m\u001b[1;33m\u001b[0m\u001b[1;33m\u001b[0m\u001b[0m\n\u001b[1;32m----> 2\u001b[1;33m \u001b[0maspmn\u001b[0m\u001b[1;33m.\u001b[0m\u001b[0mlearn_aspmn\u001b[0m\u001b[1;33m(\u001b[0m\u001b[0mtrain\u001b[0m\u001b[1;33m,\u001b[0m \u001b[0mtest\u001b[0m\u001b[1;33m)\u001b[0m\u001b[1;33m\u001b[0m\u001b[1;33m\u001b[0m\u001b[0m\n\u001b[0m",
      "\u001b[1;32m~\\Desktop\\SPFlow_spmn\\src\\spn\\algorithms\\ASPMN.py\u001b[0m in \u001b[0;36mlearn_aspmn\u001b[1;34m(self, train, test)\u001b[0m\n\u001b[0;32m    339\u001b[0m \u001b[1;33m\u001b[0m\u001b[0m\n\u001b[0;32m    340\u001b[0m                         \u001b[0mprint\u001b[0m\u001b[1;33m(\u001b[0m\u001b[1;34m\"start\"\u001b[0m\u001b[1;33m)\u001b[0m\u001b[1;33m\u001b[0m\u001b[1;33m\u001b[0m\u001b[0m\n\u001b[1;32m--> 341\u001b[1;33m                         \u001b[0mspmn\u001b[0m \u001b[1;33m=\u001b[0m \u001b[0mself\u001b[0m\u001b[1;33m.\u001b[0m\u001b[0m__learn_spmn_structure\u001b[0m\u001b[1;33m(\u001b[0m\u001b[0mtrain\u001b[0m\u001b[1;33m,\u001b[0m \u001b[0mremaining_vars_scope\u001b[0m\u001b[1;33m,\u001b[0m \u001b[0mcurr_information_set_scope\u001b[0m\u001b[1;33m,\u001b[0m \u001b[0mindex\u001b[0m\u001b[1;33m)\u001b[0m\u001b[1;33m\u001b[0m\u001b[1;33m\u001b[0m\u001b[0m\n\u001b[0m\u001b[0;32m    342\u001b[0m                         \u001b[0mprint\u001b[0m\u001b[1;33m(\u001b[0m\u001b[1;34m\"done\"\u001b[0m\u001b[1;33m)\u001b[0m\u001b[1;33m\u001b[0m\u001b[1;33m\u001b[0m\u001b[0m\n\u001b[0;32m    343\u001b[0m                         \u001b[0mself\u001b[0m\u001b[1;33m.\u001b[0m\u001b[0mspmn\u001b[0m \u001b[1;33m=\u001b[0m \u001b[0mspmn\u001b[0m\u001b[1;33m\u001b[0m\u001b[1;33m\u001b[0m\u001b[0m\n",
      "\u001b[1;32m~\\Desktop\\SPFlow_spmn\\src\\spn\\algorithms\\ASPMN.py\u001b[0m in \u001b[0;36m__learn_spmn_structure\u001b[1;34m(self, remaining_vars_data, remaining_vars_scope, curr_information_set_scope, index)\u001b[0m\n\u001b[0;32m    127\u001b[0m                         \u001b[1;32mfor\u001b[0m \u001b[0mcluster_on_next_remaining_vars\u001b[0m \u001b[1;32min\u001b[0m \u001b[0mclusters_on_next_remaining_vars\u001b[0m\u001b[1;33m:\u001b[0m\u001b[1;33m\u001b[0m\u001b[1;33m\u001b[0m\u001b[0m\n\u001b[0;32m    128\u001b[0m \u001b[1;33m\u001b[0m\u001b[0m\n\u001b[1;32m--> 129\u001b[1;33m \t\t\t\tdecision_node_children_spns.append(self.__learn_spmn_structure(cluster_on_next_remaining_vars,\n\u001b[0m\u001b[0;32m    130\u001b[0m                                                                                                                                                            \u001b[0mnext_remaining_vars_scope\u001b[0m\u001b[1;33m,\u001b[0m\u001b[1;33m\u001b[0m\u001b[1;33m\u001b[0m\u001b[0m\n\u001b[0;32m    131\u001b[0m                                                                                                                                                            \u001b[0mnext_information_set_scope\u001b[0m\u001b[1;33m,\u001b[0m \u001b[0mindex\u001b[0m\u001b[1;33m\u001b[0m\u001b[1;33m\u001b[0m\u001b[0m\n",
      "\u001b[1;32m~\\Desktop\\SPFlow_spmn\\src\\spn\\algorithms\\ASPMN.py\u001b[0m in \u001b[0;36m__learn_spmn_structure\u001b[1;34m(self, remaining_vars_data, remaining_vars_scope, curr_information_set_scope, index)\u001b[0m\n\u001b[0;32m    153\u001b[0m                                 \u001b[1;31m#split_cols = get_split_cols_distributed_RDC_py(rand_gen=None, ohe=False, n_jobs=-1, n=round(self.n))\u001b[0m\u001b[1;33m\u001b[0m\u001b[1;33m\u001b[0m\u001b[1;33m\u001b[0m\u001b[0m\n\u001b[0;32m    154\u001b[0m                                 \u001b[0msplit_cols\u001b[0m \u001b[1;33m=\u001b[0m \u001b[0mget_split_cols_RDC_py\u001b[0m\u001b[1;33m(\u001b[0m\u001b[1;33m)\u001b[0m\u001b[1;33m\u001b[0m\u001b[1;33m\u001b[0m\u001b[0m\n\u001b[1;32m--> 155\u001b[1;33m                                 \u001b[0mdata_slices_prod\u001b[0m \u001b[1;33m=\u001b[0m \u001b[0msplit_cols\u001b[0m\u001b[1;33m(\u001b[0m\u001b[0mremaining_vars_data\u001b[0m\u001b[1;33m,\u001b[0m \u001b[0mds_context\u001b[0m\u001b[1;33m,\u001b[0m \u001b[0mremaining_vars_scope\u001b[0m\u001b[1;33m)\u001b[0m\u001b[1;33m\u001b[0m\u001b[1;33m\u001b[0m\u001b[0m\n\u001b[0m\u001b[0;32m    156\u001b[0m \u001b[1;33m\u001b[0m\u001b[0m\n\u001b[0;32m    157\u001b[0m                                 \u001b[0mlogging\u001b[0m\u001b[1;33m.\u001b[0m\u001b[0mdebug\u001b[0m\u001b[1;33m(\u001b[0m\u001b[1;34mf'{len(data_slices_prod)} slices found at data_slices_prod: '\u001b[0m\u001b[1;33m)\u001b[0m\u001b[1;33m\u001b[0m\u001b[1;33m\u001b[0m\u001b[0m\n",
      "\u001b[1;32m~\\Desktop\\SPFlow_spmn\\src\\spn\\algorithms\\splitting\\RDC.py\u001b[0m in \u001b[0;36msplit_cols_RDC_py\u001b[1;34m(local_data, ds_context, scope)\u001b[0m\n\u001b[0;32m    352\u001b[0m                 \u001b[0mdomains\u001b[0m \u001b[1;33m=\u001b[0m \u001b[0mds_context\u001b[0m\u001b[1;33m.\u001b[0m\u001b[0mget_domains_by_scope\u001b[0m\u001b[1;33m(\u001b[0m\u001b[0mscope\u001b[0m\u001b[1;33m)\u001b[0m\u001b[1;33m\u001b[0m\u001b[1;33m\u001b[0m\u001b[0m\n\u001b[0;32m    353\u001b[0m \u001b[1;33m\u001b[0m\u001b[0m\n\u001b[1;32m--> 354\u001b[1;33m \t\tclusters = getIndependentRDCGroups_py(\n\u001b[0m\u001b[0;32m    355\u001b[0m                         \u001b[0mlocal_data\u001b[0m\u001b[1;33m,\u001b[0m\u001b[1;33m\u001b[0m\u001b[1;33m\u001b[0m\u001b[0m\n\u001b[0;32m    356\u001b[0m                         \u001b[0mthreshold\u001b[0m\u001b[1;33m,\u001b[0m\u001b[1;33m\u001b[0m\u001b[1;33m\u001b[0m\u001b[0m\n",
      "\u001b[1;32m~\\Desktop\\SPFlow_spmn\\src\\spn\\algorithms\\splitting\\RDC.py\u001b[0m in \u001b[0;36mgetIndependentRDCGroups_py\u001b[1;34m(local_data, threshold, meta_types, domains, k, s, non_linearity, n_jobs, rand_gen)\u001b[0m\n\u001b[0;32m    323\u001b[0m         \u001b[0mlocal_data\u001b[0m\u001b[1;33m,\u001b[0m \u001b[0mthreshold\u001b[0m\u001b[1;33m,\u001b[0m \u001b[0mmeta_types\u001b[0m\u001b[1;33m,\u001b[0m \u001b[0mdomains\u001b[0m\u001b[1;33m,\u001b[0m \u001b[0mk\u001b[0m\u001b[1;33m=\u001b[0m\u001b[1;32mNone\u001b[0m\u001b[1;33m,\u001b[0m \u001b[0ms\u001b[0m\u001b[1;33m=\u001b[0m\u001b[1;36m1.0\u001b[0m \u001b[1;33m/\u001b[0m \u001b[1;36m6.0\u001b[0m\u001b[1;33m,\u001b[0m \u001b[0mnon_linearity\u001b[0m\u001b[1;33m=\u001b[0m\u001b[0mnp\u001b[0m\u001b[1;33m.\u001b[0m\u001b[0msin\u001b[0m\u001b[1;33m,\u001b[0m \u001b[0mn_jobs\u001b[0m\u001b[1;33m=\u001b[0m\u001b[1;33m-\u001b[0m\u001b[1;36m2\u001b[0m\u001b[1;33m,\u001b[0m \u001b[0mrand_gen\u001b[0m\u001b[1;33m=\u001b[0m\u001b[1;32mNone\u001b[0m\u001b[1;33m\u001b[0m\u001b[1;33m\u001b[0m\u001b[0m\n\u001b[0;32m    324\u001b[0m ):\n\u001b[1;32m--> 325\u001b[1;33m \trdc_adjacency_matrix = rdc_test(\n\u001b[0m\u001b[0;32m    326\u001b[0m                 \u001b[0mlocal_data\u001b[0m\u001b[1;33m,\u001b[0m \u001b[0mmeta_types\u001b[0m\u001b[1;33m,\u001b[0m \u001b[0mdomains\u001b[0m\u001b[1;33m,\u001b[0m \u001b[0mk\u001b[0m\u001b[1;33m=\u001b[0m\u001b[0mk\u001b[0m\u001b[1;33m,\u001b[0m \u001b[0ms\u001b[0m\u001b[1;33m=\u001b[0m\u001b[0ms\u001b[0m\u001b[1;33m,\u001b[0m \u001b[0mnon_linearity\u001b[0m\u001b[1;33m=\u001b[0m\u001b[0mnon_linearity\u001b[0m\u001b[1;33m,\u001b[0m \u001b[0mn_jobs\u001b[0m\u001b[1;33m=\u001b[0m\u001b[0mn_jobs\u001b[0m\u001b[1;33m,\u001b[0m \u001b[0mrand_gen\u001b[0m\u001b[1;33m=\u001b[0m\u001b[0mrand_gen\u001b[0m\u001b[1;33m\u001b[0m\u001b[1;33m\u001b[0m\u001b[0m\n\u001b[0;32m    327\u001b[0m \t)\n",
      "\u001b[1;32m~\\Desktop\\SPFlow_spmn\\src\\spn\\algorithms\\splitting\\RDC.py\u001b[0m in \u001b[0;36mrdc_test\u001b[1;34m(local_data, meta_types, domains, k, s, non_linearity, n_jobs, rand_gen)\u001b[0m\n\u001b[0;32m    295\u001b[0m         \u001b[0mn_features\u001b[0m \u001b[1;33m=\u001b[0m \u001b[0mlocal_data\u001b[0m\u001b[1;33m.\u001b[0m\u001b[0mshape\u001b[0m\u001b[1;33m[\u001b[0m\u001b[1;36m1\u001b[0m\u001b[1;33m]\u001b[0m\u001b[1;33m\u001b[0m\u001b[1;33m\u001b[0m\u001b[0m\n\u001b[0;32m    296\u001b[0m \u001b[1;33m\u001b[0m\u001b[0m\n\u001b[1;32m--> 297\u001b[1;33m \trdc_features = rdc_transformer(\n\u001b[0m\u001b[0;32m    298\u001b[0m                 \u001b[0mlocal_data\u001b[0m\u001b[1;33m,\u001b[0m \u001b[0mmeta_types\u001b[0m\u001b[1;33m,\u001b[0m \u001b[0mdomains\u001b[0m\u001b[1;33m,\u001b[0m \u001b[0mk\u001b[0m\u001b[1;33m=\u001b[0m\u001b[0mk\u001b[0m\u001b[1;33m,\u001b[0m \u001b[0ms\u001b[0m\u001b[1;33m=\u001b[0m\u001b[0ms\u001b[0m\u001b[1;33m,\u001b[0m \u001b[0mnon_linearity\u001b[0m\u001b[1;33m=\u001b[0m\u001b[0mnon_linearity\u001b[0m\u001b[1;33m,\u001b[0m \u001b[0mreturn_matrix\u001b[0m\u001b[1;33m=\u001b[0m\u001b[1;32mFalse\u001b[0m\u001b[1;33m,\u001b[0m \u001b[0mrand_gen\u001b[0m\u001b[1;33m=\u001b[0m\u001b[0mrand_gen\u001b[0m\u001b[1;33m\u001b[0m\u001b[1;33m\u001b[0m\u001b[0m\n\u001b[0;32m    299\u001b[0m \t)\n",
      "\u001b[1;32m~\\Desktop\\SPFlow_spmn\\src\\spn\\algorithms\\splitting\\RDC.py\u001b[0m in \u001b[0;36mrdc_transformer\u001b[1;34m(local_data, meta_types, domains, k, s, non_linearity, return_matrix, ohe, rand_gen)\u001b[0m\n\u001b[0;32m    241\u001b[0m         \u001b[1;32mfor\u001b[0m \u001b[0mf\u001b[0m \u001b[1;32min\u001b[0m \u001b[0mrange\u001b[0m\u001b[1;33m(\u001b[0m\u001b[0mD\u001b[0m\u001b[1;33m)\u001b[0m\u001b[1;33m:\u001b[0m\u001b[1;33m\u001b[0m\u001b[1;33m\u001b[0m\u001b[0m\n\u001b[0;32m    242\u001b[0m                 \u001b[1;32mif\u001b[0m \u001b[0mmeta_types\u001b[0m\u001b[1;33m[\u001b[0m\u001b[0mf\u001b[0m\u001b[1;33m]\u001b[0m \u001b[1;33m==\u001b[0m \u001b[0mMetaType\u001b[0m\u001b[1;33m.\u001b[0m\u001b[0mDISCRETE\u001b[0m\u001b[1;33m:\u001b[0m\u001b[1;33m\u001b[0m\u001b[1;33m\u001b[0m\u001b[0m\n\u001b[1;32m--> 243\u001b[1;33m                         \u001b[0mfeatures\u001b[0m\u001b[1;33m.\u001b[0m\u001b[0mappend\u001b[0m\u001b[1;33m(\u001b[0m\u001b[0mohe_data\u001b[0m\u001b[1;33m(\u001b[0m\u001b[0mlocal_data\u001b[0m\u001b[1;33m[\u001b[0m\u001b[1;33m:\u001b[0m\u001b[1;33m,\u001b[0m \u001b[0mf\u001b[0m\u001b[1;33m]\u001b[0m\u001b[1;33m,\u001b[0m \u001b[0mdomains\u001b[0m\u001b[1;33m[\u001b[0m\u001b[0mf\u001b[0m\u001b[1;33m]\u001b[0m\u001b[1;33m)\u001b[0m\u001b[1;33m)\u001b[0m\u001b[1;33m\u001b[0m\u001b[1;33m\u001b[0m\u001b[0m\n\u001b[0m\u001b[0;32m    244\u001b[0m                 \u001b[1;32melse\u001b[0m\u001b[1;33m:\u001b[0m\u001b[1;33m\u001b[0m\u001b[1;33m\u001b[0m\u001b[0m\n\u001b[0;32m    245\u001b[0m                         \u001b[0mfeatures\u001b[0m\u001b[1;33m.\u001b[0m\u001b[0mappend\u001b[0m\u001b[1;33m(\u001b[0m\u001b[0mlocal_data\u001b[0m\u001b[1;33m[\u001b[0m\u001b[1;33m:\u001b[0m\u001b[1;33m,\u001b[0m \u001b[0mf\u001b[0m\u001b[1;33m]\u001b[0m\u001b[1;33m.\u001b[0m\u001b[0mreshape\u001b[0m\u001b[1;33m(\u001b[0m\u001b[1;33m-\u001b[0m\u001b[1;36m1\u001b[0m\u001b[1;33m,\u001b[0m \u001b[1;36m1\u001b[0m\u001b[1;33m)\u001b[0m\u001b[1;33m)\u001b[0m\u001b[1;33m\u001b[0m\u001b[1;33m\u001b[0m\u001b[0m\n",
      "\u001b[1;32m~\\Desktop\\SPFlow_spmn\\src\\spn\\algorithms\\splitting\\RDC.py\u001b[0m in \u001b[0;36mohe_data\u001b[1;34m(data, domain)\u001b[0m\n\u001b[0;32m    192\u001b[0m \u001b[1;33m\u001b[0m\u001b[0m\n\u001b[0;32m    193\u001b[0m \u001b[1;32mdef\u001b[0m \u001b[0mohe_data\u001b[0m\u001b[1;33m(\u001b[0m\u001b[0mdata\u001b[0m\u001b[1;33m,\u001b[0m \u001b[0mdomain\u001b[0m\u001b[1;33m)\u001b[0m\u001b[1;33m:\u001b[0m\u001b[1;33m\u001b[0m\u001b[1;33m\u001b[0m\u001b[0m\n\u001b[1;32m--> 194\u001b[1;33m         \u001b[0mdataenc\u001b[0m \u001b[1;33m=\u001b[0m \u001b[0mnp\u001b[0m\u001b[1;33m.\u001b[0m\u001b[0mzeros\u001b[0m\u001b[1;33m(\u001b[0m\u001b[1;33m(\u001b[0m\u001b[0mdata\u001b[0m\u001b[1;33m.\u001b[0m\u001b[0mshape\u001b[0m\u001b[1;33m[\u001b[0m\u001b[1;36m0\u001b[0m\u001b[1;33m]\u001b[0m\u001b[1;33m,\u001b[0m \u001b[0mlen\u001b[0m\u001b[1;33m(\u001b[0m\u001b[0mdomain\u001b[0m\u001b[1;33m)\u001b[0m\u001b[1;33m)\u001b[0m\u001b[1;33m)\u001b[0m\u001b[1;33m\u001b[0m\u001b[1;33m\u001b[0m\u001b[0m\n\u001b[0m\u001b[0;32m    195\u001b[0m \u001b[1;33m\u001b[0m\u001b[0m\n\u001b[0;32m    196\u001b[0m         \u001b[0mdataenc\u001b[0m\u001b[1;33m[\u001b[0m\u001b[0mdata\u001b[0m\u001b[1;33m[\u001b[0m\u001b[1;33m:\u001b[0m\u001b[1;33m,\u001b[0m \u001b[1;32mNone\u001b[0m\u001b[1;33m]\u001b[0m \u001b[1;33m==\u001b[0m \u001b[0mdomain\u001b[0m\u001b[1;33m[\u001b[0m\u001b[1;32mNone\u001b[0m\u001b[1;33m,\u001b[0m \u001b[1;33m:\u001b[0m\u001b[1;33m]\u001b[0m\u001b[1;33m]\u001b[0m \u001b[1;33m=\u001b[0m \u001b[1;36m1\u001b[0m\u001b[1;33m\u001b[0m\u001b[1;33m\u001b[0m\u001b[0m\n",
      "\u001b[1;31mMemoryError\u001b[0m: Unable to allocate 238. GiB for an array with shape (160000, 199999) and data type float64"
     ]
    }
   ],
   "source": [
    "\n",
    "    \n",
    "\n",
    "\n",
    "\n",
    "    aspmn = Anytime_SPMN(dataset, plot_path, partial_order , decision_nodes, utility_node, feature_names, feature_labels, meta_types, cluster_by_curr_information_set=True, util_to_bin = False)\n",
    "    aspmn.learn_aspmn(train, test)"
   ]
  },
  {
   "cell_type": "code",
   "execution_count": null,
   "metadata": {},
   "outputs": [],
   "source": [
    "\n"
   ]
  },
  {
   "cell_type": "code",
   "execution_count": null,
   "metadata": {},
   "outputs": [],
   "source": []
  }
 ],
 "metadata": {
  "kernelspec": {
   "display_name": "Python 3",
   "language": "python",
   "name": "python3"
  },
  "language_info": {
   "codemirror_mode": {
    "name": "ipython",
    "version": 3
   },
   "file_extension": ".py",
   "mimetype": "text/x-python",
   "name": "python",
   "nbconvert_exporter": "python",
   "pygments_lexer": "ipython3",
   "version": "3.8.5"
  }
 },
 "nbformat": 4,
 "nbformat_minor": 4
}
