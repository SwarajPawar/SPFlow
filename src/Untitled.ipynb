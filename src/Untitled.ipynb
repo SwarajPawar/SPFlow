{
 "cells": [
  {
   "cell_type": "code",
   "execution_count": 10,
   "metadata": {},
   "outputs": [
    {
     "name": "stdout",
     "output_type": "stream",
     "text": [
      "[[-2.753 -2.721 -2.71  -2.678 -2.633 -2.616 -2.6   -2.598 -2.602 -2.589\n",
      "  -2.576 -2.567 -2.562 -2.554 -2.553 -2.545 -2.549 -2.553 -2.568 -2.546\n",
      "  -2.561 -2.562]\n",
      " [-2.433 -2.337 -2.271 -2.304 -2.254 -2.267 -2.258 -2.244 -2.229 -2.251\n",
      "  -2.259 -2.256 -2.238 -2.233 -2.211 -2.209 -2.203 -2.197 -2.194 -2.184\n",
      "  -2.187 -2.186]\n",
      " [-2.736 -2.653 -2.569 -2.569 -2.556 -2.631 -2.509 -2.47  -2.488 -2.472\n",
      "  -2.496 -2.494 -2.439 -2.432 -2.427 -2.434 -2.428 -2.421 -2.42  -2.427\n",
      "  -2.434 -2.396]]\n",
      "(3, 22)\n"
     ]
    }
   ],
   "source": [
    "import matplotlib.pyplot as plt\n",
    "import numpy as np\n",
    "\n",
    "dataset=\"kdd\"\n",
    "path=\"cross\"\n",
    "\n",
    "lls = [[753,721,710,678,633,616,600,598,602,589,576,567,562,554,553,545,549,553,568,546,561,562],\n",
    "      [433,337,271,304,254,267,258,244,229,251,259,256,238,233,211,209,203,197,194,184,187,186],\n",
    "      [736,653,569,569,556,631,509,470,488,472,496,494,439,432,427,434,428,421,420,427,434,396]]\n",
    "nodes_k = [[258,347,551,723,948,967,1076,1404,1532,1826,1342,1439,1441,1503,1786,1828,1992,2217,2122,2214,2532,2628],\n",
    "          [398,772,619,796,1035,1068,1223,1427,1338,1622,1506,1554,1571,1694,1782,1909,2002,2004,2398,2426,2617,2894],\n",
    "          [373,682,601,804,947,1062,1476,1166,1337,1628,2021,1892,1801,1866,1922,2288,1909,2564,2632,2522,2584,2856]]\n",
    "\n",
    "'''\n",
    "lls = [[6.598,6.559,6.532,6.496,6.454,6.435,6.401,6.396,6.378,6.378,6.347,6.341,6.338,6.327,6.318,6.293,6.275,6.267,6.256,6.274,6.273,6.238],\n",
    "      [6.594,6.568,6.556,6.455,6.454,6.409,6.436,6.403,6.381,6.384,6.376,6.311,6.332,6.317,6.307,6.296,6.286,6.281,6.262,6.258,6.257,6.236],\n",
    "       [6.622,6.591,6.517,6.534,6.439,6.446,6.418,6.403,6.387,6.376,6.367,6.361,6.349,6.328,6.297,6.288,6.285,6.272,6.269,6.267,6.276,6.269]]\n",
    "nodes_k = [[38,56,76,97,112,138,169,182,204,219,233,249,278,311,328,347,376,418,649,493,488,496],\n",
    "           [39,58,72,101,113,151,146,182,204,217,236,254,283,315,309,352,377,472,438,469,471,515],\n",
    "           [42,59,73,102,114,142,165,183,198,226,264,259,266,308,332,359,606,416,648,449,457,513]\n",
    "          ]\n",
    "'''\n",
    "lls = ((np.array(lls)*0.001)+2)*-1\n",
    "nodes_k = np.array(nodes_k)\n",
    "print(lls)\n",
    "print(nodes_k.shape)\n",
    "\n",
    "plt.close()\n",
    "colors = [\"aqua\", \"palegreen\", \"pink\"]\n",
    "total_ll = np.zeros(max([len(lls[i]) for i in range(len(lls))]))\n",
    "for i in range(len(lls)):\n",
    "    plt.plot(lls[i], marker=\"o\", color =colors[i], label=(i+1))\n",
    "    total_ll += np.array(lls[i])\n",
    "avg_ll = total_ll/len(lls)\n",
    "plt.plot(avg_ll, marker=\"o\", color =\"black\", label=\"Mean\")\n",
    "plt.title(f\"{dataset} Log Likelihood\")\n",
    "plt.legend()\n",
    "plt.savefig(f\"{path}/{dataset}/ll.png\", dpi=150)\n",
    "plt.close()\n",
    "\n",
    "total_nodes = np.zeros(max([len(nodes_k[i]) for i in range(len(nodes_k))]))\n",
    "for i in range(len(nodes_k)):\n",
    "    plt.plot(nodes_k[i], marker=\"o\", color =colors[i], label=(i+1))\n",
    "    total_nodes += np.array(nodes_k[i])\n",
    "avg_nodes = total_nodes/len(nodes_k)\n",
    "plt.plot(avg_nodes, marker=\"o\", color =\"black\", label=\"Mean\")\n",
    "plt.title(f\"{dataset} Nodes\")\n",
    "plt.legend()\n",
    "plt.savefig(f\"{path}/{dataset}/nodes.png\", dpi=150)\n",
    "plt.close()"
   ]
  },
  {
   "cell_type": "code",
   "execution_count": null,
   "metadata": {},
   "outputs": [],
   "source": []
  },
  {
   "cell_type": "code",
   "execution_count": null,
   "metadata": {},
   "outputs": [],
   "source": []
  },
  {
   "cell_type": "code",
   "execution_count": null,
   "metadata": {},
   "outputs": [],
   "source": []
  }
 ],
 "metadata": {
  "kernelspec": {
   "display_name": "Python 3",
   "language": "python",
   "name": "python3"
  },
  "language_info": {
   "codemirror_mode": {
    "name": "ipython",
    "version": 3
   },
   "file_extension": ".py",
   "mimetype": "text/x-python",
   "name": "python",
   "nbconvert_exporter": "python",
   "pygments_lexer": "ipython3",
   "version": "3.8.5"
  }
 },
 "nbformat": 4,
 "nbformat_minor": 4
}
