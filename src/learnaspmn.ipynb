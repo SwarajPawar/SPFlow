{
 "cells": [
  {
   "cell_type": "code",
   "execution_count": null,
   "metadata": {},
   "outputs": [],
   "source": []
  },
  {
   "cell_type": "code",
   "execution_count": null,
   "metadata": {},
   "outputs": [
    {
     "name": "stdout",
     "output_type": "stream",
     "text": [
      "Test_Strep\n",
      "(1000000, 8)\n",
      "start\n",
      "done\n",
      "Average Reward Evaluation : |--------------------------------------------------| 0.08% Complete\r"
     ]
    }
   ],
   "source": [
    "\n",
    "import numpy as np\n",
    "\n",
    "import logging\n",
    "logger = logging.getLogger(__name__)\n",
    "\n",
    "\n",
    "import warnings\n",
    "warnings.filterwarnings('ignore')\n",
    "\n",
    "import pandas as pd\n",
    "from os import path as pth\n",
    "import sys, os\n",
    "import random\n",
    "\n",
    "from sklearn.model_selection import train_test_split\n",
    "from spn.data.metaData import *\n",
    "from spn.structure.StatisticalTypes import MetaType\n",
    "from spn.algorithms.SPMNDataUtil import align_data\n",
    "from spn.algorithms.SPMN import SPMN\n",
    "from spn.algorithms.ASPMN1 import Anytime_SPMN\n",
    "import matplotlib.pyplot as plt\n",
    "from os import path as pth\n",
    "import sys, os\n",
    "\n",
    "\n",
    "\n",
    "datasets = ['Export_Textiles', 'HIV_Screening', 'Computer_Diagnostician', 'Powerplant_Airpollution', 'Test_Strep', 'LungCancer_Staging']\n",
    "datasets = ['Test_Strep']\n",
    "path = \"test\"\n",
    "path = \"improve1\"\n",
    "\n",
    "\n",
    "for dataset in datasets:\n",
    "\t\n",
    "\n",
    "\n",
    "\tpartial_order = get_partial_order(dataset)\n",
    "\tutility_node = get_utilityNode(dataset)\n",
    "\tdecision_nodes = get_decNode(dataset)\n",
    "\tfeature_names = get_feature_names(dataset)\n",
    "\tfeature_labels = get_feature_labels(dataset)\n",
    "\tmeta_types = [MetaType.DISCRETE]*(len(feature_names)-1)+[MetaType.UTILITY]\n",
    "\n",
    "\tprint(dataset)\n",
    "\tdf = pd.read_csv(f\"spn/data/{dataset}/{dataset}_new.tsv\", sep='\\t')\n",
    "\n",
    "\tdf, column_titles = align_data(df, partial_order) \n",
    "\n",
    "\tdata = df.values\n",
    "\t#train, test = train_test_split(data, test_size=0.9, shuffle=True)\n",
    "\ttrain, test = data, random.sample(list(data), 1000)\n",
    "\n",
    "\n",
    "\t\n",
    "\t#train, test = data[:int(data.shape[0]*0.7)], data[int(data.shape[0]*0.7):]\n",
    "\tprint(train.shape)\n",
    "\t#print(test.shape)\n",
    "\n",
    "\n",
    "\t\n",
    "\taspmn = Anytime_SPMN(dataset, path, partial_order , decision_nodes, utility_node, feature_names, feature_labels, meta_types, cluster_by_curr_information_set=True, util_to_bin = False)\n",
    "\taspmn.learn_aspmn(train, test)\n"
   ]
  },
  {
   "cell_type": "code",
   "execution_count": null,
   "metadata": {
    "scrolled": true
   },
   "outputs": [],
   "source": [
    "\n",
    "    "
   ]
  },
  {
   "cell_type": "code",
   "execution_count": null,
   "metadata": {},
   "outputs": [],
   "source": [
    "\n"
   ]
  },
  {
   "cell_type": "code",
   "execution_count": null,
   "metadata": {},
   "outputs": [],
   "source": []
  }
 ],
 "metadata": {
  "kernelspec": {
   "display_name": "Python 3",
   "language": "python",
   "name": "python3"
  },
  "language_info": {
   "codemirror_mode": {
    "name": "ipython",
    "version": 3
   },
   "file_extension": ".py",
   "mimetype": "text/x-python",
   "name": "python",
   "nbconvert_exporter": "python",
   "pygments_lexer": "ipython3",
   "version": "3.8.5"
  }
 },
 "nbformat": 4,
 "nbformat_minor": 4
}
